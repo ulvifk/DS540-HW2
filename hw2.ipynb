{
 "cells": [
  {
   "cell_type": "code",
   "execution_count": 138,
   "id": "initial_id",
   "metadata": {
    "collapsed": true,
    "ExecuteTime": {
     "end_time": "2024-04-24T10:19:46.202657Z",
     "start_time": "2024-04-24T10:19:46.199553Z"
    }
   },
   "outputs": [],
   "source": [
    "import numpy as np\n",
    "import pandas as pd"
   ]
  },
  {
   "cell_type": "code",
   "outputs": [],
   "source": [
    "df = pd.read_csv('churn.csv', index_col='customerID')"
   ],
   "metadata": {
    "collapsed": false,
    "ExecuteTime": {
     "end_time": "2024-04-24T10:19:46.225738Z",
     "start_time": "2024-04-24T10:19:46.204705Z"
    }
   },
   "id": "a811e8e0b6a112e5",
   "execution_count": 139
  },
  {
   "cell_type": "code",
   "outputs": [
    {
     "data": {
      "text/plain": "            gender  SeniorCitizen Partner Dependents  tenure PhoneService  \\\ncustomerID                                                                  \n7590-VHVEG  Female              0     Yes         No       1           No   \n5575-GNVDE    Male              0      No         No      34          Yes   \n3668-QPYBK    Male              0      No         No       2          Yes   \n7795-CFOCW    Male              0      No         No      45           No   \n9237-HQITU  Female              0      No         No       2          Yes   \n\n               MultipleLines InternetService OnlineSecurity OnlineBackup  \\\ncustomerID                                                                 \n7590-VHVEG  No phone service             DSL             No          Yes   \n5575-GNVDE                No             DSL            Yes           No   \n3668-QPYBK                No             DSL            Yes          Yes   \n7795-CFOCW  No phone service             DSL            Yes           No   \n9237-HQITU                No     Fiber optic             No           No   \n\n           DeviceProtection TechSupport StreamingTV StreamingMovies  \\\ncustomerID                                                            \n7590-VHVEG               No          No          No              No   \n5575-GNVDE              Yes          No          No              No   \n3668-QPYBK               No          No          No              No   \n7795-CFOCW              Yes         Yes          No              No   \n9237-HQITU               No          No          No              No   \n\n                  Contract PaperlessBilling              PaymentMethod  \\\ncustomerID                                                               \n7590-VHVEG  Month-to-month              Yes           Electronic check   \n5575-GNVDE        One year               No               Mailed check   \n3668-QPYBK  Month-to-month              Yes               Mailed check   \n7795-CFOCW        One year               No  Bank transfer (automatic)   \n9237-HQITU  Month-to-month              Yes           Electronic check   \n\n            MonthlyCharges TotalCharges Churn  \ncustomerID                                     \n7590-VHVEG           29.85        29.85    No  \n5575-GNVDE           56.95       1889.5    No  \n3668-QPYBK           53.85       108.15   Yes  \n7795-CFOCW           42.30      1840.75    No  \n9237-HQITU           70.70       151.65   Yes  ",
      "text/html": "<div>\n<style scoped>\n    .dataframe tbody tr th:only-of-type {\n        vertical-align: middle;\n    }\n\n    .dataframe tbody tr th {\n        vertical-align: top;\n    }\n\n    .dataframe thead th {\n        text-align: right;\n    }\n</style>\n<table border=\"1\" class=\"dataframe\">\n  <thead>\n    <tr style=\"text-align: right;\">\n      <th></th>\n      <th>gender</th>\n      <th>SeniorCitizen</th>\n      <th>Partner</th>\n      <th>Dependents</th>\n      <th>tenure</th>\n      <th>PhoneService</th>\n      <th>MultipleLines</th>\n      <th>InternetService</th>\n      <th>OnlineSecurity</th>\n      <th>OnlineBackup</th>\n      <th>DeviceProtection</th>\n      <th>TechSupport</th>\n      <th>StreamingTV</th>\n      <th>StreamingMovies</th>\n      <th>Contract</th>\n      <th>PaperlessBilling</th>\n      <th>PaymentMethod</th>\n      <th>MonthlyCharges</th>\n      <th>TotalCharges</th>\n      <th>Churn</th>\n    </tr>\n    <tr>\n      <th>customerID</th>\n      <th></th>\n      <th></th>\n      <th></th>\n      <th></th>\n      <th></th>\n      <th></th>\n      <th></th>\n      <th></th>\n      <th></th>\n      <th></th>\n      <th></th>\n      <th></th>\n      <th></th>\n      <th></th>\n      <th></th>\n      <th></th>\n      <th></th>\n      <th></th>\n      <th></th>\n      <th></th>\n    </tr>\n  </thead>\n  <tbody>\n    <tr>\n      <th>7590-VHVEG</th>\n      <td>Female</td>\n      <td>0</td>\n      <td>Yes</td>\n      <td>No</td>\n      <td>1</td>\n      <td>No</td>\n      <td>No phone service</td>\n      <td>DSL</td>\n      <td>No</td>\n      <td>Yes</td>\n      <td>No</td>\n      <td>No</td>\n      <td>No</td>\n      <td>No</td>\n      <td>Month-to-month</td>\n      <td>Yes</td>\n      <td>Electronic check</td>\n      <td>29.85</td>\n      <td>29.85</td>\n      <td>No</td>\n    </tr>\n    <tr>\n      <th>5575-GNVDE</th>\n      <td>Male</td>\n      <td>0</td>\n      <td>No</td>\n      <td>No</td>\n      <td>34</td>\n      <td>Yes</td>\n      <td>No</td>\n      <td>DSL</td>\n      <td>Yes</td>\n      <td>No</td>\n      <td>Yes</td>\n      <td>No</td>\n      <td>No</td>\n      <td>No</td>\n      <td>One year</td>\n      <td>No</td>\n      <td>Mailed check</td>\n      <td>56.95</td>\n      <td>1889.5</td>\n      <td>No</td>\n    </tr>\n    <tr>\n      <th>3668-QPYBK</th>\n      <td>Male</td>\n      <td>0</td>\n      <td>No</td>\n      <td>No</td>\n      <td>2</td>\n      <td>Yes</td>\n      <td>No</td>\n      <td>DSL</td>\n      <td>Yes</td>\n      <td>Yes</td>\n      <td>No</td>\n      <td>No</td>\n      <td>No</td>\n      <td>No</td>\n      <td>Month-to-month</td>\n      <td>Yes</td>\n      <td>Mailed check</td>\n      <td>53.85</td>\n      <td>108.15</td>\n      <td>Yes</td>\n    </tr>\n    <tr>\n      <th>7795-CFOCW</th>\n      <td>Male</td>\n      <td>0</td>\n      <td>No</td>\n      <td>No</td>\n      <td>45</td>\n      <td>No</td>\n      <td>No phone service</td>\n      <td>DSL</td>\n      <td>Yes</td>\n      <td>No</td>\n      <td>Yes</td>\n      <td>Yes</td>\n      <td>No</td>\n      <td>No</td>\n      <td>One year</td>\n      <td>No</td>\n      <td>Bank transfer (automatic)</td>\n      <td>42.30</td>\n      <td>1840.75</td>\n      <td>No</td>\n    </tr>\n    <tr>\n      <th>9237-HQITU</th>\n      <td>Female</td>\n      <td>0</td>\n      <td>No</td>\n      <td>No</td>\n      <td>2</td>\n      <td>Yes</td>\n      <td>No</td>\n      <td>Fiber optic</td>\n      <td>No</td>\n      <td>No</td>\n      <td>No</td>\n      <td>No</td>\n      <td>No</td>\n      <td>No</td>\n      <td>Month-to-month</td>\n      <td>Yes</td>\n      <td>Electronic check</td>\n      <td>70.70</td>\n      <td>151.65</td>\n      <td>Yes</td>\n    </tr>\n  </tbody>\n</table>\n</div>"
     },
     "execution_count": 140,
     "metadata": {},
     "output_type": "execute_result"
    }
   ],
   "source": [
    "df.head()"
   ],
   "metadata": {
    "collapsed": false,
    "ExecuteTime": {
     "end_time": "2024-04-24T10:19:46.234875Z",
     "start_time": "2024-04-24T10:19:46.226833Z"
    }
   },
   "id": "95b8a054ad35c40f",
   "execution_count": 140
  },
  {
   "cell_type": "code",
   "outputs": [],
   "source": [
    "float_cols = [\"MonthlyCharges\", \"TotalCharges\"]\n",
    "df[float_cols] = df[float_cols].apply(pd.to_numeric, errors='coerce')\n",
    "df.dropna(inplace=True)"
   ],
   "metadata": {
    "collapsed": false,
    "ExecuteTime": {
     "end_time": "2024-04-24T10:19:46.246231Z",
     "start_time": "2024-04-24T10:19:46.236550Z"
    }
   },
   "id": "62fbb9233b6d227d",
   "execution_count": 141
  },
  {
   "cell_type": "code",
   "outputs": [
    {
     "data": {
      "text/plain": "{'gender': array(['Female', 'Male'], dtype=object),\n 'SeniorCitizen': array([0, 1]),\n 'Partner': array(['Yes', 'No'], dtype=object),\n 'Dependents': array(['No', 'Yes'], dtype=object),\n 'tenure': array([ 1, 34,  2, 45,  8, 22, 10, 28, 62, 13, 16, 58, 49, 25, 69, 52, 71,\n        21, 12, 30, 47, 72, 17, 27,  5, 46, 11, 70, 63, 43, 15, 60, 18, 66,\n         9,  3, 31, 50, 64, 56,  7, 42, 35, 48, 29, 65, 38, 68, 32, 55, 37,\n        36, 41,  6,  4, 33, 67, 23, 57, 61, 14, 20, 53, 40, 59, 24, 44, 19,\n        54, 51, 26, 39]),\n 'PhoneService': array(['No', 'Yes'], dtype=object),\n 'MultipleLines': array(['No phone service', 'No', 'Yes'], dtype=object),\n 'InternetService': array(['DSL', 'Fiber optic', 'No'], dtype=object),\n 'OnlineSecurity': array(['No', 'Yes', 'No internet service'], dtype=object),\n 'OnlineBackup': array(['Yes', 'No', 'No internet service'], dtype=object),\n 'DeviceProtection': array(['No', 'Yes', 'No internet service'], dtype=object),\n 'TechSupport': array(['No', 'Yes', 'No internet service'], dtype=object),\n 'StreamingTV': array(['No', 'Yes', 'No internet service'], dtype=object),\n 'StreamingMovies': array(['No', 'Yes', 'No internet service'], dtype=object),\n 'Contract': array(['Month-to-month', 'One year', 'Two year'], dtype=object),\n 'PaperlessBilling': array(['Yes', 'No'], dtype=object),\n 'PaymentMethod': array(['Electronic check', 'Mailed check', 'Bank transfer (automatic)',\n        'Credit card (automatic)'], dtype=object),\n 'MonthlyCharges': array([29.85, 56.95, 53.85, ..., 63.1 , 44.2 , 78.7 ]),\n 'TotalCharges': array([  29.85, 1889.5 ,  108.15, ...,  346.45,  306.6 , 6844.5 ]),\n 'Churn': array(['No', 'Yes'], dtype=object)}"
     },
     "execution_count": 142,
     "metadata": {},
     "output_type": "execute_result"
    }
   ],
   "source": [
    "cols = df.columns\n",
    "uniques = {col: df[col].unique() for col in cols}\n",
    "uniques"
   ],
   "metadata": {
    "collapsed": false,
    "ExecuteTime": {
     "end_time": "2024-04-24T10:19:46.255181Z",
     "start_time": "2024-04-24T10:19:46.247001Z"
    }
   },
   "id": "3923a4b613124fca",
   "execution_count": 142
  },
  {
   "cell_type": "code",
   "outputs": [],
   "source": [
    "cols_to_one_hot = [\"MultipleLines\", \"InternetService\", \"OnlineSecurity\", \"OnlineBackup\", \"DeviceProtection\", \"TechSupport\", \"StreamingTV\", \"StreamingMovies\", \"Contract\", \"PaymentMethod\"]\n",
    "non_numeric_cols = df.select_dtypes(include='object').columns\n",
    "cols_to_label_encode = [col for col in non_numeric_cols if col not in cols_to_one_hot]"
   ],
   "metadata": {
    "collapsed": false,
    "ExecuteTime": {
     "end_time": "2024-04-24T10:19:46.260381Z",
     "start_time": "2024-04-24T10:19:46.255952Z"
    }
   },
   "id": "93a61eadac54c83f",
   "execution_count": 143
  },
  {
   "cell_type": "code",
   "outputs": [
    {
     "data": {
      "text/plain": "['gender',\n 'Partner',\n 'Dependents',\n 'PhoneService',\n 'PaperlessBilling',\n 'Churn']"
     },
     "execution_count": 144,
     "metadata": {},
     "output_type": "execute_result"
    }
   ],
   "source": [
    "cols_to_label_encode"
   ],
   "metadata": {
    "collapsed": false,
    "ExecuteTime": {
     "end_time": "2024-04-24T10:19:46.263516Z",
     "start_time": "2024-04-24T10:19:46.261173Z"
    }
   },
   "id": "870ed37ab76d0437",
   "execution_count": 144
  },
  {
   "cell_type": "code",
   "outputs": [],
   "source": [
    "from sklearn.preprocessing import OneHotEncoder\n",
    "for col in cols_to_one_hot:\n",
    "    onehot_encoder = OneHotEncoder()\n",
    "    col_to_encoded = df[col].values.reshape(-1, 1)\n",
    "    df.drop(col, axis=1, inplace=True)\n",
    "\n",
    "    onehot_encoded = onehot_encoder.fit_transform(col_to_encoded).toarray()\n",
    "    categories = onehot_encoder.categories_[0]\n",
    "    col_names = [str(col) + \"_\" + category for category in categories]\n",
    "\n",
    "    df = pd.concat([df, pd.DataFrame(onehot_encoded, columns=col_names, index=df.index)], axis=1)"
   ],
   "metadata": {
    "collapsed": false,
    "ExecuteTime": {
     "end_time": "2024-04-24T10:19:46.300182Z",
     "start_time": "2024-04-24T10:19:46.264220Z"
    }
   },
   "id": "652a0c4a60635f57",
   "execution_count": 145
  },
  {
   "cell_type": "code",
   "outputs": [],
   "source": [
    "from sklearn.preprocessing import LabelEncoder\n",
    "for col in cols_to_label_encode:\n",
    "    label_encoder = LabelEncoder()\n",
    "    df[col] = label_encoder.fit_transform(df[col])"
   ],
   "metadata": {
    "collapsed": false,
    "ExecuteTime": {
     "end_time": "2024-04-24T10:20:03.894460Z",
     "start_time": "2024-04-24T10:20:03.887315Z"
    }
   },
   "id": "4402104caacbc9e0",
   "execution_count": 147
  },
  {
   "cell_type": "code",
   "outputs": [
    {
     "data": {
      "text/plain": "            gender  SeniorCitizen  Partner  Dependents  tenure  PhoneService  \\\ncustomerID                                                                     \n7590-VHVEG       0              0        1           0       1             0   \n5575-GNVDE       1              0        0           0      34             1   \n3668-QPYBK       1              0        0           0       2             1   \n7795-CFOCW       1              0        0           0      45             0   \n9237-HQITU       0              0        0           0       2             1   \n...            ...            ...      ...         ...     ...           ...   \n6840-RESVB       1              0        1           1      24             1   \n2234-XADUH       0              0        1           1      72             1   \n4801-JZAZL       0              0        1           1      11             0   \n8361-LTMKD       1              1        1           0       4             1   \n3186-AJIEK       1              0        0           0      66             1   \n\n            PaperlessBilling  MonthlyCharges  TotalCharges  Churn  ...  \\\ncustomerID                                                         ...   \n7590-VHVEG                 1           29.85         29.85      0  ...   \n5575-GNVDE                 0           56.95       1889.50      0  ...   \n3668-QPYBK                 1           53.85        108.15      1  ...   \n7795-CFOCW                 0           42.30       1840.75      0  ...   \n9237-HQITU                 1           70.70        151.65      1  ...   \n...                      ...             ...           ...    ...  ...   \n6840-RESVB                 1           84.80       1990.50      0  ...   \n2234-XADUH                 1          103.20       7362.90      0  ...   \n4801-JZAZL                 1           29.60        346.45      0  ...   \n8361-LTMKD                 1           74.40        306.60      1  ...   \n3186-AJIEK                 1          105.65       6844.50      0  ...   \n\n            StreamingMovies_No  StreamingMovies_No internet service  \\\ncustomerID                                                            \n7590-VHVEG                 1.0                                  0.0   \n5575-GNVDE                 1.0                                  0.0   \n3668-QPYBK                 1.0                                  0.0   \n7795-CFOCW                 1.0                                  0.0   \n9237-HQITU                 1.0                                  0.0   \n...                        ...                                  ...   \n6840-RESVB                 0.0                                  0.0   \n2234-XADUH                 0.0                                  0.0   \n4801-JZAZL                 1.0                                  0.0   \n8361-LTMKD                 1.0                                  0.0   \n3186-AJIEK                 0.0                                  0.0   \n\n            StreamingMovies_Yes  Contract_Month-to-month  Contract_One year  \\\ncustomerID                                                                    \n7590-VHVEG                  0.0                      1.0                0.0   \n5575-GNVDE                  0.0                      0.0                1.0   \n3668-QPYBK                  0.0                      1.0                0.0   \n7795-CFOCW                  0.0                      0.0                1.0   \n9237-HQITU                  0.0                      1.0                0.0   \n...                         ...                      ...                ...   \n6840-RESVB                  1.0                      0.0                1.0   \n2234-XADUH                  1.0                      0.0                1.0   \n4801-JZAZL                  0.0                      1.0                0.0   \n8361-LTMKD                  0.0                      1.0                0.0   \n3186-AJIEK                  1.0                      0.0                0.0   \n\n            Contract_Two year  PaymentMethod_Bank transfer (automatic)  \\\ncustomerID                                                               \n7590-VHVEG                0.0                                      0.0   \n5575-GNVDE                0.0                                      0.0   \n3668-QPYBK                0.0                                      0.0   \n7795-CFOCW                0.0                                      1.0   \n9237-HQITU                0.0                                      0.0   \n...                       ...                                      ...   \n6840-RESVB                0.0                                      0.0   \n2234-XADUH                0.0                                      0.0   \n4801-JZAZL                0.0                                      0.0   \n8361-LTMKD                0.0                                      0.0   \n3186-AJIEK                1.0                                      1.0   \n\n            PaymentMethod_Credit card (automatic)  \\\ncustomerID                                          \n7590-VHVEG                                    0.0   \n5575-GNVDE                                    0.0   \n3668-QPYBK                                    0.0   \n7795-CFOCW                                    0.0   \n9237-HQITU                                    0.0   \n...                                           ...   \n6840-RESVB                                    0.0   \n2234-XADUH                                    1.0   \n4801-JZAZL                                    0.0   \n8361-LTMKD                                    0.0   \n3186-AJIEK                                    0.0   \n\n            PaymentMethod_Electronic check  PaymentMethod_Mailed check  \ncustomerID                                                              \n7590-VHVEG                             1.0                         0.0  \n5575-GNVDE                             0.0                         1.0  \n3668-QPYBK                             0.0                         1.0  \n7795-CFOCW                             0.0                         0.0  \n9237-HQITU                             1.0                         0.0  \n...                                    ...                         ...  \n6840-RESVB                             0.0                         1.0  \n2234-XADUH                             0.0                         0.0  \n4801-JZAZL                             1.0                         0.0  \n8361-LTMKD                             0.0                         1.0  \n3186-AJIEK                             0.0                         0.0  \n\n[7032 rows x 41 columns]",
      "text/html": "<div>\n<style scoped>\n    .dataframe tbody tr th:only-of-type {\n        vertical-align: middle;\n    }\n\n    .dataframe tbody tr th {\n        vertical-align: top;\n    }\n\n    .dataframe thead th {\n        text-align: right;\n    }\n</style>\n<table border=\"1\" class=\"dataframe\">\n  <thead>\n    <tr style=\"text-align: right;\">\n      <th></th>\n      <th>gender</th>\n      <th>SeniorCitizen</th>\n      <th>Partner</th>\n      <th>Dependents</th>\n      <th>tenure</th>\n      <th>PhoneService</th>\n      <th>PaperlessBilling</th>\n      <th>MonthlyCharges</th>\n      <th>TotalCharges</th>\n      <th>Churn</th>\n      <th>...</th>\n      <th>StreamingMovies_No</th>\n      <th>StreamingMovies_No internet service</th>\n      <th>StreamingMovies_Yes</th>\n      <th>Contract_Month-to-month</th>\n      <th>Contract_One year</th>\n      <th>Contract_Two year</th>\n      <th>PaymentMethod_Bank transfer (automatic)</th>\n      <th>PaymentMethod_Credit card (automatic)</th>\n      <th>PaymentMethod_Electronic check</th>\n      <th>PaymentMethod_Mailed check</th>\n    </tr>\n    <tr>\n      <th>customerID</th>\n      <th></th>\n      <th></th>\n      <th></th>\n      <th></th>\n      <th></th>\n      <th></th>\n      <th></th>\n      <th></th>\n      <th></th>\n      <th></th>\n      <th></th>\n      <th></th>\n      <th></th>\n      <th></th>\n      <th></th>\n      <th></th>\n      <th></th>\n      <th></th>\n      <th></th>\n      <th></th>\n      <th></th>\n    </tr>\n  </thead>\n  <tbody>\n    <tr>\n      <th>7590-VHVEG</th>\n      <td>0</td>\n      <td>0</td>\n      <td>1</td>\n      <td>0</td>\n      <td>1</td>\n      <td>0</td>\n      <td>1</td>\n      <td>29.85</td>\n      <td>29.85</td>\n      <td>0</td>\n      <td>...</td>\n      <td>1.0</td>\n      <td>0.0</td>\n      <td>0.0</td>\n      <td>1.0</td>\n      <td>0.0</td>\n      <td>0.0</td>\n      <td>0.0</td>\n      <td>0.0</td>\n      <td>1.0</td>\n      <td>0.0</td>\n    </tr>\n    <tr>\n      <th>5575-GNVDE</th>\n      <td>1</td>\n      <td>0</td>\n      <td>0</td>\n      <td>0</td>\n      <td>34</td>\n      <td>1</td>\n      <td>0</td>\n      <td>56.95</td>\n      <td>1889.50</td>\n      <td>0</td>\n      <td>...</td>\n      <td>1.0</td>\n      <td>0.0</td>\n      <td>0.0</td>\n      <td>0.0</td>\n      <td>1.0</td>\n      <td>0.0</td>\n      <td>0.0</td>\n      <td>0.0</td>\n      <td>0.0</td>\n      <td>1.0</td>\n    </tr>\n    <tr>\n      <th>3668-QPYBK</th>\n      <td>1</td>\n      <td>0</td>\n      <td>0</td>\n      <td>0</td>\n      <td>2</td>\n      <td>1</td>\n      <td>1</td>\n      <td>53.85</td>\n      <td>108.15</td>\n      <td>1</td>\n      <td>...</td>\n      <td>1.0</td>\n      <td>0.0</td>\n      <td>0.0</td>\n      <td>1.0</td>\n      <td>0.0</td>\n      <td>0.0</td>\n      <td>0.0</td>\n      <td>0.0</td>\n      <td>0.0</td>\n      <td>1.0</td>\n    </tr>\n    <tr>\n      <th>7795-CFOCW</th>\n      <td>1</td>\n      <td>0</td>\n      <td>0</td>\n      <td>0</td>\n      <td>45</td>\n      <td>0</td>\n      <td>0</td>\n      <td>42.30</td>\n      <td>1840.75</td>\n      <td>0</td>\n      <td>...</td>\n      <td>1.0</td>\n      <td>0.0</td>\n      <td>0.0</td>\n      <td>0.0</td>\n      <td>1.0</td>\n      <td>0.0</td>\n      <td>1.0</td>\n      <td>0.0</td>\n      <td>0.0</td>\n      <td>0.0</td>\n    </tr>\n    <tr>\n      <th>9237-HQITU</th>\n      <td>0</td>\n      <td>0</td>\n      <td>0</td>\n      <td>0</td>\n      <td>2</td>\n      <td>1</td>\n      <td>1</td>\n      <td>70.70</td>\n      <td>151.65</td>\n      <td>1</td>\n      <td>...</td>\n      <td>1.0</td>\n      <td>0.0</td>\n      <td>0.0</td>\n      <td>1.0</td>\n      <td>0.0</td>\n      <td>0.0</td>\n      <td>0.0</td>\n      <td>0.0</td>\n      <td>1.0</td>\n      <td>0.0</td>\n    </tr>\n    <tr>\n      <th>...</th>\n      <td>...</td>\n      <td>...</td>\n      <td>...</td>\n      <td>...</td>\n      <td>...</td>\n      <td>...</td>\n      <td>...</td>\n      <td>...</td>\n      <td>...</td>\n      <td>...</td>\n      <td>...</td>\n      <td>...</td>\n      <td>...</td>\n      <td>...</td>\n      <td>...</td>\n      <td>...</td>\n      <td>...</td>\n      <td>...</td>\n      <td>...</td>\n      <td>...</td>\n      <td>...</td>\n    </tr>\n    <tr>\n      <th>6840-RESVB</th>\n      <td>1</td>\n      <td>0</td>\n      <td>1</td>\n      <td>1</td>\n      <td>24</td>\n      <td>1</td>\n      <td>1</td>\n      <td>84.80</td>\n      <td>1990.50</td>\n      <td>0</td>\n      <td>...</td>\n      <td>0.0</td>\n      <td>0.0</td>\n      <td>1.0</td>\n      <td>0.0</td>\n      <td>1.0</td>\n      <td>0.0</td>\n      <td>0.0</td>\n      <td>0.0</td>\n      <td>0.0</td>\n      <td>1.0</td>\n    </tr>\n    <tr>\n      <th>2234-XADUH</th>\n      <td>0</td>\n      <td>0</td>\n      <td>1</td>\n      <td>1</td>\n      <td>72</td>\n      <td>1</td>\n      <td>1</td>\n      <td>103.20</td>\n      <td>7362.90</td>\n      <td>0</td>\n      <td>...</td>\n      <td>0.0</td>\n      <td>0.0</td>\n      <td>1.0</td>\n      <td>0.0</td>\n      <td>1.0</td>\n      <td>0.0</td>\n      <td>0.0</td>\n      <td>1.0</td>\n      <td>0.0</td>\n      <td>0.0</td>\n    </tr>\n    <tr>\n      <th>4801-JZAZL</th>\n      <td>0</td>\n      <td>0</td>\n      <td>1</td>\n      <td>1</td>\n      <td>11</td>\n      <td>0</td>\n      <td>1</td>\n      <td>29.60</td>\n      <td>346.45</td>\n      <td>0</td>\n      <td>...</td>\n      <td>1.0</td>\n      <td>0.0</td>\n      <td>0.0</td>\n      <td>1.0</td>\n      <td>0.0</td>\n      <td>0.0</td>\n      <td>0.0</td>\n      <td>0.0</td>\n      <td>1.0</td>\n      <td>0.0</td>\n    </tr>\n    <tr>\n      <th>8361-LTMKD</th>\n      <td>1</td>\n      <td>1</td>\n      <td>1</td>\n      <td>0</td>\n      <td>4</td>\n      <td>1</td>\n      <td>1</td>\n      <td>74.40</td>\n      <td>306.60</td>\n      <td>1</td>\n      <td>...</td>\n      <td>1.0</td>\n      <td>0.0</td>\n      <td>0.0</td>\n      <td>1.0</td>\n      <td>0.0</td>\n      <td>0.0</td>\n      <td>0.0</td>\n      <td>0.0</td>\n      <td>0.0</td>\n      <td>1.0</td>\n    </tr>\n    <tr>\n      <th>3186-AJIEK</th>\n      <td>1</td>\n      <td>0</td>\n      <td>0</td>\n      <td>0</td>\n      <td>66</td>\n      <td>1</td>\n      <td>1</td>\n      <td>105.65</td>\n      <td>6844.50</td>\n      <td>0</td>\n      <td>...</td>\n      <td>0.0</td>\n      <td>0.0</td>\n      <td>1.0</td>\n      <td>0.0</td>\n      <td>0.0</td>\n      <td>1.0</td>\n      <td>1.0</td>\n      <td>0.0</td>\n      <td>0.0</td>\n      <td>0.0</td>\n    </tr>\n  </tbody>\n</table>\n<p>7032 rows × 41 columns</p>\n</div>"
     },
     "execution_count": 148,
     "metadata": {},
     "output_type": "execute_result"
    }
   ],
   "source": [
    "df"
   ],
   "metadata": {
    "collapsed": false,
    "ExecuteTime": {
     "end_time": "2024-04-24T10:20:05.174899Z",
     "start_time": "2024-04-24T10:20:05.158056Z"
    }
   },
   "id": "886d85fddfad95bb",
   "execution_count": 148
  },
  {
   "cell_type": "code",
   "outputs": [],
   "source": [
    "# Decisiton Trees\n",
    "# Adaptive Boosting\n",
    " # Gradient Boosting\n",
    "# Random Forest\n",
    "# XGBoost\n",
    "# LightGBM\n",
    "# CatBoost"
   ],
   "metadata": {
    "collapsed": false,
    "ExecuteTime": {
     "end_time": "2024-04-24T10:23:12.789848Z",
     "start_time": "2024-04-24T10:23:12.786005Z"
    }
   },
   "id": "e73e6f3ee0788098",
   "execution_count": 149
  },
  {
   "cell_type": "code",
   "outputs": [],
   "source": [],
   "metadata": {
    "collapsed": false
   },
   "id": "fe8cf441a79d42f9"
  }
 ],
 "metadata": {
  "kernelspec": {
   "display_name": "Python 3",
   "language": "python",
   "name": "python3"
  },
  "language_info": {
   "codemirror_mode": {
    "name": "ipython",
    "version": 2
   },
   "file_extension": ".py",
   "mimetype": "text/x-python",
   "name": "python",
   "nbconvert_exporter": "python",
   "pygments_lexer": "ipython2",
   "version": "2.7.6"
  }
 },
 "nbformat": 4,
 "nbformat_minor": 5
}
